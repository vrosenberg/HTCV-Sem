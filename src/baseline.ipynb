{
  "cells": [
    {
      "attachments": {},
      "cell_type": "markdown",
      "metadata": {
        "id": "Qydhqh93nCGB"
      },
      "source": [
        "This is a baseline for the HTCV Sem"
      ]
    },
    {
      "cell_type": "code",
      "execution_count": 1,
      "metadata": {
        "id": "k8-TzgJtnfCK"
      },
      "outputs": [],
      "source": [
        "import torch\n",
        "import torch.nn as nn\n",
        "import torchvision.models as models\n",
        "import torchvision\n",
        "import torchvision.transforms as transforms\n",
        "import numpy as np\n",
        "from PIL import Image\n",
        "import shutil\n",
        "\n",
        "from data_loader import load_data_entries\n",
        "from constants import *"
      ]
    },
    {
      "cell_type": "code",
      "execution_count": 2,
      "metadata": {},
      "outputs": [
        {
          "name": "stdout",
          "output_type": "stream",
          "text": [
            "280\n",
            "[('socal-fire_00000862_post_disaster.png', 3), ('hurricane-michael_00000504_post_disaster.png', 1), ('hurricane-florence_00000500_post_disaster.png', 3), ('midwest-flooding_00000264_post_disaster.png', 1), ('santa-rosa-wildfire_00000368_post_disaster.png', 1), ('hurricane-florence_00000218_post_disaster.png', 0), ('hurricane-florence_00000435_post_disaster.png', 1), ('hurricane-michael_00000322_post_disaster.png', 1), ('midwest-flooding_00000426_post_disaster.png', 1), ('hurricane-matthew_00000219_post_disaster.png', 3), ('santa-rosa-wildfire_00000351_post_disaster.png', 2), ('socal-fire_00000563_post_disaster.png', 0), ('socal-fire_00000367_post_disaster.png', 4), ('santa-rosa-wildfire_00000283_post_disaster.png', 2), ('hurricane-florence_00000022_post_disaster.png', 3), ('hurricane-florence_00000436_post_disaster.png', 3), ('socal-fire_00001178_post_disaster.png', 0), ('socal-fire_00000886_post_disaster.png', 2), ('socal-fire_00000073_post_disaster.png', 0), ('midwest-flooding_00000217_post_disaster.png', 1), ('palu-tsunami_00000030_post_disaster.png', 4), ('midwest-flooding_00000054_post_disaster.png', 1), ('santa-rosa-wildfire_00000281_post_disaster.png', 1), ('socal-fire_00000812_post_disaster.png', 0), ('socal-fire_00000160_post_disaster.png', 0), ('hurricane-matthew_00000039_post_disaster.png', 1), ('santa-rosa-wildfire_00000353_post_disaster.png', 4), ('hurricane-florence_00000195_post_disaster.png', 3), ('hurricane-michael_00000093_post_disaster.png', 0), ('socal-fire_00000516_post_disaster.png', 4), ('socal-fire_00000790_post_disaster.png', 1), ('socal-fire_00000581_post_disaster.png', 0), ('midwest-flooding_00000099_post_disaster.png', 1), ('hurricane-michael_00000009_post_disaster.png', 1), ('socal-fire_00001196_post_disaster.png', 1), ('socal-fire_00000384_post_disaster.png', 0), ('socal-fire_00000851_post_disaster.png', 0), ('socal-fire_00000175_post_disaster.png', 0), ('hurricane-harvey_00000024_post_disaster.png', 1), ('socal-fire_00000337_post_disaster.png', 1), ('santa-rosa-wildfire_00000226_post_disaster.png', 3), ('santa-rosa-wildfire_00000162_post_disaster.png', 4), ('hurricane-michael_00000299_post_disaster.png', 2), ('hurricane-michael_00000058_post_disaster.png', 1), ('socal-fire_00000820_post_disaster.png', 0), ('hurricane-michael_00000302_post_disaster.png', 1), ('socal-fire_00000577_post_disaster.png', 1), ('midwest-flooding_00000096_post_disaster.png', 1), ('santa-rosa-wildfire_00000346_post_disaster.png', 4), ('socal-fire_00000676_post_disaster.png', 1), ('socal-fire_00000136_post_disaster.png', 1), ('hurricane-florence_00000284_post_disaster.png', 1), ('socal-fire_00000385_post_disaster.png', 0), ('midwest-flooding_00000041_post_disaster.png', 1), ('hurricane-florence_00000069_post_disaster.png', 1), ('hurricane-florence_00000309_post_disaster.png', 1), ('socal-fire_00000850_post_disaster.png', 0), ('mexico-earthquake_00000027_post_disaster.png', 1), ('hurricane-michael_00000250_post_disaster.png', 3), ('socal-fire_00000095_post_disaster.png', 2), ('palu-tsunami_00000108_post_disaster.png', 1), ('palu-tsunami_00000177_post_disaster.png', 1), ('midwest-flooding_00000065_post_disaster.png', 1), ('hurricane-matthew_00000237_post_disaster.png', 3), ('santa-rosa-wildfire_00000345_post_disaster.png', 4), ('hurricane-michael_00000309_post_disaster.png', 2), ('hurricane-florence_00000126_post_disaster.png', 2), ('hurricane-michael_00000072_post_disaster.png', 1), ('hurricane-florence_00000353_post_disaster.png', 1), ('hurricane-harvey_00000454_post_disaster.png', 1), ('hurricane-florence_00000018_post_disaster.png', 3), ('hurricane-matthew_00000110_post_disaster.png', 4), ('socal-fire_00000888_post_disaster.png', 0), ('socal-fire_00000528_post_disaster.png', 0), ('hurricane-michael_00000473_post_disaster.png', 1), ('socal-fire_00001079_post_disaster.png', 0), ('socal-fire_00000044_post_disaster.png', 1), ('mexico-earthquake_00000160_post_disaster.png', 1), ('socal-fire_00000094_post_disaster.png', 0), ('hurricane-harvey_00000054_post_disaster.png', 3), ('hurricane-matthew_00000066_post_disaster.png', 2), ('socal-fire_00000204_post_disaster.png', 4), ('mexico-earthquake_00000007_post_disaster.png', 1), ('socal-fire_00000361_post_disaster.png', 0), ('socal-fire_00001318_post_disaster.png', 1), ('hurricane-matthew_00000192_post_disaster.png', 4), ('hurricane-florence_00000259_post_disaster.png', 3), ('santa-rosa-wildfire_00000253_post_disaster.png', 2), ('guatemala-volcano_00000008_post_disaster.png', 0), ('socal-fire_00001127_post_disaster.png', 1), ('hurricane-harvey_00000288_post_disaster.png', 0), ('hurricane-florence_00000278_post_disaster.png', 1), ('midwest-flooding_00000253_post_disaster.png', 1), ('hurricane-michael_00000222_post_disaster.png', 2), ('hurricane-harvey_00000132_post_disaster.png', 3), ('hurricane-matthew_00000154_post_disaster.png', 3), ('socal-fire_00000709_post_disaster.png', 0), ('hurricane-harvey_00000015_post_disaster.png', 1), ('socal-fire_00001312_post_disaster.png', 2), ('midwest-flooding_00000152_post_disaster.png', 0), ('socal-fire_00001264_post_disaster.png', 1), ('hurricane-harvey_00000379_post_disaster.png', 1), ('midwest-flooding_00000059_post_disaster.png', 1), ('hurricane-michael_00000494_post_disaster.png', 2), ('palu-tsunami_00000025_post_disaster.png', 2), ('socal-fire_00000913_post_disaster.png', 4), ('palu-tsunami_00000098_post_disaster.png', 1), ('socal-fire_00000411_post_disaster.png', 0), ('hurricane-florence_00000325_post_disaster.png', 1), ('socal-fire_00001300_post_disaster.png', 0), ('hurricane-matthew_00000185_post_disaster.png', 2), ('santa-rosa-wildfire_00000239_post_disaster.png', 1), ('hurricane-michael_00000090_post_disaster.png', 1), ('hurricane-harvey_00000389_post_disaster.png', 1), ('midwest-flooding_00000203_post_disaster.png', 0), ('hurricane-matthew_00000360_post_disaster.png', 1), ('palu-tsunami_00000134_post_disaster.png', 1), ('socal-fire_00000383_post_disaster.png', 0), ('hurricane-florence_00000072_post_disaster.png', 3), ('socal-fire_00000187_post_disaster.png', 0), ('hurricane-florence_00000523_post_disaster.png', 2), ('hurricane-florence_00000427_post_disaster.png', 3), ('midwest-flooding_00000021_post_disaster.png', 2), ('midwest-flooding_00000177_post_disaster.png', 0), ('midwest-flooding_00000385_post_disaster.png', 1), ('hurricane-harvey_00000299_post_disaster.png', 3), ('socal-fire_00001158_post_disaster.png', 0), ('palu-tsunami_00000064_post_disaster.png', 1), ('hurricane-michael_00000041_post_disaster.png', 1), ('hurricane-matthew_00000278_post_disaster.png', 2), ('hurricane-michael_00000192_post_disaster.png', 1), ('hurricane-harvey_00000489_post_disaster.png', 2), ('socal-fire_00001313_post_disaster.png', 1), ('mexico-earthquake_00000013_post_disaster.png', 1), ('midwest-flooding_00000345_post_disaster.png', 1), ('socal-fire_00001344_post_disaster.png', 3), ('socal-fire_00000529_post_disaster.png', 0), ('hurricane-michael_00000330_post_disaster.png', 2), ('hurricane-harvey_00000369_post_disaster.png', 3), ('mexico-earthquake_00000033_post_disaster.png', 1), ('hurricane-matthew_00000209_post_disaster.png', 3), ('midwest-flooding_00000100_post_disaster.png', 1), ('hurricane-michael_00000337_post_disaster.png', 1), ('santa-rosa-wildfire_00000210_post_disaster.png', 1), ('midwest-flooding_00000164_post_disaster.png', 0), ('santa-rosa-wildfire_00000036_post_disaster.png', 4), ('socal-fire_00000537_post_disaster.png', 0), ('hurricane-florence_00000012_post_disaster.png', 1), ('midwest-flooding_00000220_post_disaster.png', 1), ('palu-tsunami_00000183_post_disaster.png', 2), ('hurricane-michael_00000351_post_disaster.png', 1), ('hurricane-michael_00000136_post_disaster.png', 3), ('hurricane-harvey_00000278_post_disaster.png', 1), ('midwest-flooding_00000161_post_disaster.png', 1), ('socal-fire_00000998_post_disaster.png', 0), ('hurricane-florence_00000120_post_disaster.png', 3), ('santa-rosa-wildfire_00000015_post_disaster.png', 3), ('hurricane-matthew_00000375_post_disaster.png', 0), ('socal-fire_00001170_post_disaster.png', 0), ('hurricane-florence_00000313_post_disaster.png', 1), ('hurricane-harvey_00000455_post_disaster.png', 2), ('hurricane-harvey_00000157_post_disaster.png', 3), ('socal-fire_00000205_post_disaster.png', 1), ('hurricane-florence_00000407_post_disaster.png', 3), ('hurricane-michael_00000051_post_disaster.png', 2), ('socal-fire_00000556_post_disaster.png', 1), ('socal-fire_00000364_post_disaster.png', 0), ('socal-fire_00001122_post_disaster.png', 0), ('hurricane-florence_00000183_post_disaster.png', 3), ('socal-fire_00000731_post_disaster.png', 1), ('hurricane-matthew_00000281_post_disaster.png', 4), ('socal-fire_00000964_post_disaster.png', 0), ('socal-fire_00001228_post_disaster.png', 1), ('socal-fire_00001251_post_disaster.png', 1), ('socal-fire_00000266_post_disaster.png', 1), ('socal-fire_00001013_post_disaster.png', 1), ('hurricane-florence_00000272_post_disaster.png', 1), ('hurricane-michael_00000539_post_disaster.png', 1), ('hurricane-matthew_00000226_post_disaster.png', 4), ('midwest-flooding_00000431_post_disaster.png', 1), ('hurricane-florence_00000085_post_disaster.png', 1), ('hurricane-florence_00000481_post_disaster.png', 3), ('santa-rosa-wildfire_00000128_post_disaster.png', 1), ('socal-fire_00000714_post_disaster.png', 0), ('guatemala-volcano_00000016_post_disaster.png', 1), ('hurricane-harvey_00000092_post_disaster.png', 2), ('palu-tsunami_00000101_post_disaster.png', 1), ('midwest-flooding_00000211_post_disaster.png', 0), ('guatemala-volcano_00000026_post_disaster.png', 1), ('socal-fire_00001063_post_disaster.png', 1), ('socal-fire_00000322_post_disaster.png', 0), ('santa-rosa-wildfire_00000072_post_disaster.png', 2), ('socal-fire_00001129_post_disaster.png', 0), ('hurricane-michael_00000349_post_disaster.png', 2), ('midwest-flooding_00000339_post_disaster.png', 1), ('hurricane-michael_00000043_post_disaster.png', 2), ('midwest-flooding_00000168_post_disaster.png', 4), ('palu-tsunami_00000040_post_disaster.png', 1), ('hurricane-michael_00000261_post_disaster.png', 2), ('hurricane-matthew_00000208_post_disaster.png', 4), ('midwest-flooding_00000347_post_disaster.png', 1), ('midwest-flooding_00000242_post_disaster.png', 2), ('hurricane-harvey_00000151_post_disaster.png', 2), ('hurricane-michael_00000241_post_disaster.png', 2), ('hurricane-michael_00000313_post_disaster.png', 2), ('palu-tsunami_00000072_post_disaster.png', 1), ('socal-fire_00000376_post_disaster.png', 0), ('hurricane-florence_00000350_post_disaster.png', 1), ('hurricane-harvey_00000280_post_disaster.png', 3), ('midwest-flooding_00000040_post_disaster.png', 0), ('socal-fire_00000083_post_disaster.png', 0), ('socal-fire_00000430_post_disaster.png', 4), ('hurricane-harvey_00000442_post_disaster.png', 2), ('mexico-earthquake_00000140_post_disaster.png', 1), ('socal-fire_00000752_post_disaster.png', 1), ('midwest-flooding_00000231_post_disaster.png', 1), ('hurricane-michael_00000511_post_disaster.png', 1), ('hurricane-matthew_00000398_post_disaster.png', 3), ('socal-fire_00000464_post_disaster.png', 0), ('socal-fire_00001320_post_disaster.png', 0), ('santa-rosa-wildfire_00000153_post_disaster.png', 1), ('hurricane-harvey_00000358_post_disaster.png', 3), ('socal-fire_00000199_post_disaster.png', 1), ('midwest-flooding_00000205_post_disaster.png', 1), ('hurricane-florence_00000031_post_disaster.png', 1), ('hurricane-michael_00000174_post_disaster.png', 2), ('socal-fire_00000290_post_disaster.png', 3), ('midwest-flooding_00000438_post_disaster.png', 1), ('hurricane-harvey_00000356_post_disaster.png', 2), ('socal-fire_00001223_post_disaster.png', 0), ('socal-fire_00000949_post_disaster.png', 1), ('guatemala-volcano_00000025_post_disaster.png', 4), ('hurricane-florence_00000497_post_disaster.png', 4), ('hurricane-matthew_00000065_post_disaster.png', 2), ('hurricane-michael_00000303_post_disaster.png', 2), ('socal-fire_00000734_post_disaster.png', 0), ('hurricane-michael_00000146_post_disaster.png', 1), ('santa-rosa-wildfire_00000205_post_disaster.png', 4), ('hurricane-michael_00000008_post_disaster.png', 1), ('hurricane-michael_00000356_post_disaster.png', 1), ('hurricane-harvey_00000357_post_disaster.png', 2), ('socal-fire_00000363_post_disaster.png', 1), ('mexico-earthquake_00000017_post_disaster.png', 1), ('midwest-flooding_00000143_post_disaster.png', 2), ('hurricane-harvey_00000077_post_disaster.png', 2), ('socal-fire_00001124_post_disaster.png', 1), ('hurricane-florence_00000180_post_disaster.png', 3), ('socal-fire_00001381_post_disaster.png', 0), ('hurricane-matthew_00000232_post_disaster.png', 3), ('socal-fire_00000222_post_disaster.png', 2), ('hurricane-michael_00000188_post_disaster.png', 2), ('hurricane-michael_00000147_post_disaster.png', 1), ('hurricane-harvey_00000035_post_disaster.png', 3), ('socal-fire_00000186_post_disaster.png', 0), ('hurricane-harvey_00000261_post_disaster.png', 3), ('hurricane-florence_00000158_post_disaster.png', 3), ('hurricane-michael_00000145_post_disaster.png', 2), ('socal-fire_00001086_post_disaster.png', 4), ('socal-fire_00000108_post_disaster.png', 0), ('hurricane-florence_00000044_post_disaster.png', 1), ('mexico-earthquake_00000136_post_disaster.png', 1), ('palu-tsunami_00000132_post_disaster.png', 1), ('midwest-flooding_00000273_post_disaster.png', 1), ('palu-tsunami_00000054_post_disaster.png', 1), ('santa-rosa-wildfire_00000027_post_disaster.png', 3), ('mexico-earthquake_00000040_post_disaster.png', 1), ('socal-fire_00000751_post_disaster.png', 0), ('socal-fire_00000447_post_disaster.png', 0), ('santa-rosa-wildfire_00000348_post_disaster.png', 2), ('hurricane-harvey_00000437_post_disaster.png', 3), ('hurricane-harvey_00000507_post_disaster.png', 3), ('hurricane-matthew_00000170_post_disaster.png', 4), ('hurricane-matthew_00000063_post_disaster.png', 3), ('socal-fire_00000507_post_disaster.png', 1), ('hurricane-matthew_00000399_post_disaster.png', 4), ('socal-fire_00001319_post_disaster.png', 0), ('hurricane-florence_00000370_post_disaster.png', 1), ('socal-fire_00000318_post_disaster.png', 0), ('midwest-flooding_00000073_post_disaster.png', 0), ('guatemala-volcano_00000010_post_disaster.png', 4)]\n"
          ]
        }
      ],
      "source": [
        "train_data_entries = load_data_entries(data_type=\"train\",percentage_as_str=\"10\")\n",
        "print(len(train_data_entries))\n",
        "print(train_data_entries)"
      ]
    },
    {
      "cell_type": "code",
      "execution_count": 3,
      "metadata": {},
      "outputs": [],
      "source": [
        "def visualize_data(idx, data_type, data):\n",
        "    img_name = data[idx][0]\n",
        "    img_path = os.path.join(DATASET_FOLDER_PATH,data_type,\"images\",img_name)\n",
        "    img = Image.open(img_path)\n",
        "    img.show()"
      ]
    },
    {
      "cell_type": "code",
      "execution_count": 4,
      "metadata": {},
      "outputs": [],
      "source": [
        "\n",
        "# Define the ResNet model\n",
        "class ResNetClassifier(nn.Module):\n",
        "    def __init__(self, num_classes):\n",
        "        super(ResNetClassifier, self).__init__()\n",
        "        self.resnet = models.resnet18(weights=None)\n",
        "        self.resnet.fc = nn.Linear(512, num_classes)\n",
        "\n",
        "    def forward(self, x):\n",
        "        x = self.resnet(x)\n",
        "        return x\n",
        "\n",
        "# Create an instance of the ResNet classifier\n",
        "num_classes = 5  # Number of output classes\n",
        "model = ResNetClassifier(num_classes)"
      ]
    },
    {
      "cell_type": "code",
      "execution_count": 5,
      "metadata": {},
      "outputs": [],
      "source": [
        "# Load and preprocess your dataset using torchvision.transforms\n",
        "pre_norm_transform = transforms.Compose([\n",
        "    transforms.Resize((224, 224)),  # Resize the input image to match the expected size of ResNet (224x224)\n",
        "    transforms.ToTensor()\n",
        "])\n",
        "# Calculate the mean and standard deviation of your dataset\n",
        "path_to_dataset = os.path.join(DATASET_FOLDER_PATH,\"train\")\n",
        "dataset = torchvision.datasets.ImageFolder(path_to_dataset, transform=pre_norm_transform)\n",
        "data_point_names = np.array(train_data_entries)[:,0]\n",
        "\n",
        "subset = [dataset[dataset.imgs.index((file_path, class_label))] for file_path, class_label in dataset.imgs if os.path.basename(file_path) in data_point_names]\n",
        "loader = torch.utils.data.DataLoader(subset, batch_size=32, shuffle=False)\n",
        "\n",
        "mean = 0.0\n",
        "std = 0.0\n",
        "total_samples = 0\n",
        "\n",
        "for images, _ in loader:\n",
        "    batch_samples = images.size(0)\n",
        "    images = images.view(batch_samples, images.size(1), -1)\n",
        "    mean += images.mean(2).sum(0)\n",
        "    std += images.std(2).sum(0)\n",
        "    total_samples += batch_samples\n",
        "\n",
        "mean /= total_samples\n",
        "std /= total_samples\n",
        "\n",
        "# Update the normalization transform using your dataset's mean and standard deviation\n",
        "transform = transforms.Compose([\n",
        "    pre_norm_transform,\n",
        "    transforms.Normalize(mean, std)\n",
        "])"
      ]
    },
    {
      "cell_type": "code",
      "execution_count": 19,
      "metadata": {},
      "outputs": [
        {
          "name": "stdout",
          "output_type": "stream",
          "text": [
            "tensor([0.3048, 0.3366, 0.2518])\n",
            "tensor([0.1172, 0.1034, 0.0987])\n"
          ]
        }
      ],
      "source": [
        "print(mean)\n",
        "print(std)"
      ]
    },
    {
      "attachments": {},
      "cell_type": "markdown",
      "metadata": {},
      "source": [
        "tensor([0.3048, 0.3366, 0.2518])\n",
        "tensor([0.1172, 0.1034, 0.0987])"
      ]
    },
    {
      "cell_type": "code",
      "execution_count": 6,
      "metadata": {},
      "outputs": [],
      "source": [
        "# Example dataset loading using torchvision.datasets.ImageFolder\n",
        "dataset = torchvision.datasets.ImageFolder(path_to_dataset, transform=transform)\n",
        "subset = [dataset[dataset.imgs.index((file_path, class_label))] for file_path, class_label in dataset.imgs if os.path.basename(file_path) in data_point_names]\n",
        "dataloader = torch.utils.data.DataLoader(subset, batch_size=32, shuffle=True)\n",
        "\n",
        "# Define your loss function and optimizer\n",
        "criterion = nn.CrossEntropyLoss()\n",
        "optimizer = torch.optim.SGD(model.parameters(), lr=0.001, momentum=0.9)"
      ]
    },
    {
      "cell_type": "code",
      "execution_count": 21,
      "metadata": {},
      "outputs": [
        {
          "name": "stdout",
          "output_type": "stream",
          "text": [
            "Epoch 1/10, Loss: 13.578254580497742\n",
            "Epoch 2/10, Loss: 12.578863620758057\n",
            "Epoch 3/10, Loss: 12.22071897983551\n",
            "Epoch 4/10, Loss: 11.849748492240906\n",
            "Epoch 5/10, Loss: 11.631107091903687\n",
            "Epoch 6/10, Loss: 11.142237544059753\n",
            "Epoch 7/10, Loss: 10.742456674575806\n",
            "Epoch 8/10, Loss: 10.35885339975357\n",
            "Epoch 9/10, Loss: 9.961780786514282\n",
            "Epoch 10/10, Loss: 9.88847291469574\n"
          ]
        }
      ],
      "source": [
        "# Train the model\n",
        "num_epochs = 10\n",
        "for epoch in range(num_epochs):\n",
        "    running_loss = 0.0\n",
        "    for images, labels in dataloader:\n",
        "        optimizer.zero_grad()\n",
        "\n",
        "        # Forward pass\n",
        "        outputs = model(images)\n",
        "        loss = criterion(outputs, labels)\n",
        "\n",
        "        # Backward pass and optimization\n",
        "        loss.backward()\n",
        "        optimizer.step()\n",
        "\n",
        "        running_loss += loss.item()\n",
        "\n",
        "    print(f\"Epoch {epoch+1}/{num_epochs}, Loss: {running_loss}\")\n",
        "\n",
        "# Save the trained model\n",
        "torch.save(model.state_dict(), 'resnet_classifier.pth')\n"
      ]
    },
    {
      "cell_type": "code",
      "execution_count": 13,
      "metadata": {},
      "outputs": [
        {
          "name": "stdout",
          "output_type": "stream",
          "text": [
            "Accuracy: 0.5273311897106109\n"
          ]
        }
      ],
      "source": [
        "# Define the evaluation function\n",
        "def evaluate_model(model, dataloader):\n",
        "    model.eval()  # Set the model to evaluation mode\n",
        "\n",
        "    correct = 0\n",
        "    total = 0\n",
        "\n",
        "    with torch.no_grad():\n",
        "        for images, labels in dataloader:\n",
        "            images = images.to(device)\n",
        "            labels = labels.to(device)\n",
        "\n",
        "            outputs = model(images)\n",
        "            _, predicted = torch.max(outputs.data, 1)\n",
        "\n",
        "            total += labels.size(0)\n",
        "            correct += (predicted == labels).sum().item()\n",
        "\n",
        "    accuracy = correct / total\n",
        "    return accuracy\n",
        "\n",
        "# Create an instance of the ResNetClassifier\n",
        "model = ResNetClassifier(num_classes)\n",
        "\n",
        "# Load the saved model state dictionary\n",
        "model.load_state_dict(torch.load('resnet_classifier.pth'))\n",
        "\n",
        "# Set the device for computation\n",
        "device = torch.device(\"cuda\" if torch.cuda.is_available() else \"cpu\")\n",
        "\n",
        "# Create the test dataset\n",
        "test_dataset = torchvision.datasets.ImageFolder(root=os.path.join(\"..\",\"dataset\",\"test\"), transform=transform)\n",
        "\n",
        "# Create the test dataloader\n",
        "test_dataloader = torch.utils.data.DataLoader(test_dataset, batch_size=32, shuffle=False)\n",
        "\n",
        "# Move the model to the device\n",
        "model.to(device)\n",
        "\n",
        "# Evaluate the model\n",
        "accuracy = evaluate_model(model, test_dataloader)\n",
        "\n",
        "# Print the accuracy\n",
        "print(f\"Accuracy: {accuracy}\")\n"
      ]
    },
    {
      "attachments": {},
      "cell_type": "markdown",
      "metadata": {},
      "source": [
        "first run:\n",
        "Accuracy: 0.5273311897106109"
      ]
    },
    {
      "cell_type": "code",
      "execution_count": 22,
      "metadata": {},
      "outputs": [
        {
          "name": "stdout",
          "output_type": "stream",
          "text": [
            "Confusion Matrix:\n",
            "[[115  75   0   4   0]\n",
            " [ 36 348   0  13   0]\n",
            " [ 20 114   0   4   0]\n",
            " [ 20  74   1  24   0]\n",
            " [ 21  59   0   5   0]]\n"
          ]
        }
      ],
      "source": [
        "from sklearn.metrics import confusion_matrix\n",
        "\n",
        "# Set the model to evaluation mode\n",
        "model.eval()\n",
        "\n",
        "# Initialize the lists to store the true and predicted labels\n",
        "true_labels = []\n",
        "predicted_labels = []\n",
        "\n",
        "with torch.no_grad():\n",
        "    for images, labels in test_dataloader:\n",
        "        images = images.to(device)\n",
        "        labels = labels.to(device)\n",
        "\n",
        "        outputs = model(images)\n",
        "        _, predicted = torch.max(outputs.data, 1)\n",
        "\n",
        "        true_labels.extend(labels.cpu().numpy())\n",
        "        predicted_labels.extend(predicted.cpu().numpy())\n",
        "\n",
        "# Compute the confusion matrix\n",
        "confusion_mat = confusion_matrix(true_labels, predicted_labels)\n",
        "\n",
        "print(\"Confusion Matrix:\")\n",
        "print(confusion_mat)\n",
        "\n"
      ]
    },
    {
      "cell_type": "code",
      "execution_count": 23,
      "metadata": {},
      "outputs": [
        {
          "data": {
            "image/png": "[encoded data removed]",
            "text/plain": [
              "<Figure size 800x600 with 1 Axes>"
            ]
          },
          "metadata": {},
          "output_type": "display_data"
        }
      ],
      "source": [
        "import numpy as np\n",
        "import matplotlib.pyplot as plt\n",
        "import seaborn as sns\n",
        "\n",
        "\n",
        "# Get the class labels\n",
        "class_labels = test_dataset.classes\n",
        "\n",
        "# Create a figure and axis\n",
        "fig, ax = plt.subplots(figsize=(8, 6))\n",
        "\n",
        "# Plot the confusion matrix\n",
        "sns.heatmap(confusion_mat, annot=True, fmt=\"d\", cmap=\"Blues\", cbar=False,\n",
        "            xticklabels=class_labels, yticklabels=class_labels, ax=ax)\n",
        "\n",
        "# Set labels and title\n",
        "ax.set_xlabel(\"Predicted Labels\")\n",
        "ax.set_ylabel(\"True Labels\")\n",
        "ax.set_title(\"Confusion Matrix\")\n",
        "\n",
        "# Rotate x-axis labels for better readability\n",
        "plt.xticks(rotation=45)\n",
        "\n",
        "# Display the plot\n",
        "plt.show()\n"
      ]
    },
    {
      "cell_type": "code",
      "execution_count": 7,
      "metadata": {},
      "outputs": [
        {
          "name": "stdout",
          "output_type": "stream",
          "text": [
            "Epoch 1/50, Loss: 13.49449098110199\n",
            "Epoch 2/50, Loss: 12.4426908493042\n",
            "Epoch 3/50, Loss: 11.951421976089478\n",
            "Epoch 4/50, Loss: 11.724496722221375\n",
            "Epoch 5/50, Loss: 11.270372033119202\n",
            "Epoch 6/50, Loss: 10.980766773223877\n",
            "Epoch 7/50, Loss: 10.71269941329956\n",
            "Epoch 8/50, Loss: 10.297298669815063\n",
            "Epoch 9/50, Loss: 10.000053524971008\n",
            "Epoch 10/50, Loss: 9.837932407855988\n",
            "Epoch 11/50, Loss: 9.347665429115295\n",
            "Epoch 12/50, Loss: 9.070797860622406\n",
            "Epoch 13/50, Loss: 8.915954172611237\n",
            "Epoch 14/50, Loss: 8.41830188035965\n",
            "Epoch 15/50, Loss: 8.198334217071533\n",
            "Epoch 16/50, Loss: 7.7392688393592834\n",
            "Epoch 17/50, Loss: 7.290441453456879\n",
            "Epoch 18/50, Loss: 7.161375164985657\n",
            "Epoch 19/50, Loss: 6.979715406894684\n",
            "Epoch 20/50, Loss: 6.254225790500641\n",
            "Epoch 21/50, Loss: 6.0786339938640594\n",
            "Epoch 22/50, Loss: 5.457643300294876\n",
            "Epoch 23/50, Loss: 5.794948220252991\n",
            "Epoch 24/50, Loss: 5.377321422100067\n",
            "Epoch 25/50, Loss: 5.019159197807312\n",
            "Epoch 26/50, Loss: 4.274088561534882\n",
            "Epoch 27/50, Loss: 4.282565534114838\n",
            "Epoch 28/50, Loss: 3.7890928983688354\n",
            "Epoch 29/50, Loss: 3.2782356441020966\n",
            "Epoch 30/50, Loss: 3.229648783802986\n",
            "Epoch 31/50, Loss: 2.8913922011852264\n",
            "Epoch 32/50, Loss: 2.9477125108242035\n",
            "Epoch 33/50, Loss: 2.4538304805755615\n",
            "Epoch 34/50, Loss: 2.52377749979496\n",
            "Epoch 35/50, Loss: 2.0944567024707794\n",
            "Epoch 36/50, Loss: 2.045060023665428\n",
            "Epoch 37/50, Loss: 1.8323246538639069\n",
            "Epoch 38/50, Loss: 1.9182108342647552\n",
            "Epoch 39/50, Loss: 1.617239035665989\n",
            "Epoch 40/50, Loss: 1.7122810706496239\n",
            "Epoch 41/50, Loss: 1.3358990997076035\n",
            "Epoch 42/50, Loss: 1.1277072876691818\n",
            "Epoch 43/50, Loss: 1.2338080182671547\n",
            "Epoch 44/50, Loss: 1.071344718337059\n",
            "Epoch 45/50, Loss: 0.9920442588627338\n",
            "Epoch 46/50, Loss: 0.8916562832891941\n",
            "Epoch 47/50, Loss: 0.733269676566124\n",
            "Epoch 48/50, Loss: 0.7484732195734978\n",
            "Epoch 49/50, Loss: 0.8156448267400265\n",
            "Epoch 50/50, Loss: 0.6970737241208553\n"
          ]
        }
      ],
      "source": [
        "# Train the model\n",
        "\n",
        "model.train()\n",
        "num_epochs = 50\n",
        "for epoch in range(num_epochs):\n",
        "    running_loss = 0.0\n",
        "    for images, labels in dataloader:\n",
        "        optimizer.zero_grad()\n",
        "\n",
        "        # Forward pass\n",
        "        outputs = model(images)\n",
        "        loss = criterion(outputs, labels)\n",
        "\n",
        "        # Backward pass and optimization\n",
        "        loss.backward()\n",
        "        optimizer.step()\n",
        "\n",
        "        running_loss += loss.item()\n",
        "\n",
        "    print(f\"Epoch {epoch+1}/{num_epochs}, Loss: {running_loss}\")\n",
        "\n",
        "# Save the trained model\n",
        "torch.save(model.state_dict(), 'resnet_classifier_50epoch.pth')\n",
        "\n"
      ]
    },
    {
      "cell_type": "code",
      "execution_count": 29,
      "metadata": {},
      "outputs": [
        {
          "name": "stdout",
          "output_type": "stream",
          "text": [
            "Confusion Matrix:\n",
            "[[0.69587629 0.22164948 0.02061856 0.03092784 0.03092784]\n",
            " [0.1209068  0.74811083 0.03526448 0.0604534  0.03526448]\n",
            " [0.16666667 0.60869565 0.08695652 0.11594203 0.02173913]\n",
            " [0.20168067 0.29411765 0.07563025 0.36134454 0.06722689]\n",
            " [0.24705882 0.29411765 0.08235294 0.23529412 0.14117647]]\n"
          ]
        }
      ],
      "source": [
        "from sklearn.metrics import confusion_matrix\n",
        "import matplotlib.pyplot as plt\n",
        "import seaborn as sns\n",
        "model.eval()\n",
        "\n",
        "test_dataset = torchvision.datasets.ImageFolder(root=os.path.join(\"..\",\"dataset\",\"test\"), transform=transform)\n",
        "\n",
        "# Create the test dataloader\n",
        "test_dataloader = torch.utils.data.DataLoader(test_dataset, batch_size=32, shuffle=False)\n",
        "\n",
        "\n",
        "device = torch.device(\"cuda\" if torch.cuda.is_available() else \"cpu\")\n",
        "\n",
        "# Initialize the lists to store the true and predicted labels\n",
        "true_labels = []\n",
        "predicted_labels = []\n",
        "\n",
        "with torch.no_grad():\n",
        "    for images, labels in test_dataloader:\n",
        "        images = images.to(device)\n",
        "        labels = labels.to(device)\n",
        "\n",
        "        outputs = model(images)\n",
        "        _, predicted = torch.max(outputs.data, 1)\n",
        "\n",
        "        true_labels.extend(labels.cpu().numpy())\n",
        "        predicted_labels.extend(predicted.cpu().numpy())\n",
        "\n",
        "# Compute the confusion matrix\n",
        "confusion_mat = confusion_matrix(true_labels, predicted_labels, normalize=\"true\")\n",
        "\n",
        "print(\"Confusion Matrix:\")\n",
        "print(confusion_mat)\n",
        "\n",
        "# Get the class labels\n",
        "class_labels = test_dataset.classes\n",
        "\n"
      ]
    },
    {
      "cell_type": "code",
      "execution_count": 30,
      "metadata": {},
      "outputs": [
        {
          "data": {
            "image/png": "[encoded data removed]",
            "text/plain": [
              "<Figure size 800x600 with 1 Axes>"
            ]
          },
          "metadata": {},
          "output_type": "display_data"
        }
      ],
      "source": [
        "# Create a figure and axis\n",
        "fig, ax = plt.subplots(figsize=(8, 6))\n",
        "\n",
        "# Plot the confusion matrix\n",
        "sns.heatmap(confusion_mat, annot=True, fmt=\".3f\", cmap=\"copper\", cbar=False,\n",
        "            xticklabels=class_labels, yticklabels=class_labels, ax=ax)\n",
        "\n",
        "# Set labels and title\n",
        "ax.set_xlabel(\"Predicted Labels\")\n",
        "ax.set_ylabel(\"True Labels\")\n",
        "ax.set_title(\"Confusion Matrix\")\n",
        "\n",
        "# Rotate x-axis labels for better readability\n",
        "plt.xticks(rotation=45)\n",
        "\n",
        "# Display the plot\n",
        "plt.show()\n"
      ]
    }
  ],
  "metadata": {
    "accelerator": "GPU",
    "colab": {
      "gpuType": "T4",
      "provenance": []
    },
    "gpuClass": "standard",
    "kernelspec": {
      "display_name": "Python 3",
      "name": "python3"
    },
    "language_info": {
      "codemirror_mode": {
        "name": "ipython",
        "version": 3
      },
      "file_extension": ".py",
      "mimetype": "text/x-python",
      "name": "python",
      "nbconvert_exporter": "python",
      "pygments_lexer": "ipython3",
      "version": "3.10.11"
    },
    "orig_nbformat": 4
  },
  "nbformat": 4,
  "nbformat_minor": 0
}
