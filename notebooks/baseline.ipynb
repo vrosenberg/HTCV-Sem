{
  "cells": [
    {
      "attachments": {},
      "cell_type": "markdown",
      "metadata": {},
      "source": [
        "# Baseline for Hot Topics in Computer Vision - Seminar 2\n",
        "## Addressing Label Scarcity in the Semantic Analysis of Earth Observation Imagery"
      ]
    },
    {
      "attachments": {},
      "cell_type": "markdown",
      "metadata": {},
      "source": [
        "## Imports"
      ]
    },
    {
      "cell_type": "code",
      "execution_count": 22,
      "metadata": {
        "cell_id": "0f32548964af44f1ba0acd4f96cb6469",
        "deepnote_cell_type": "code",
        "deepnote_to_be_reexecuted": false,
        "execution_millis": 1,
        "execution_start": 1685014006712,
        "id": "a29GnZIfdeuL",
        "source_hash": "48f79535"
      },
      "outputs": [],
      "source": [
        "#google colab\n",
        "import torch\n",
        "import torch.nn as nn\n",
        "from torch.optim import lr_scheduler\n",
        "import torchvision.models as models\n",
        "import torchvision\n",
        "import torchvision.transforms as transforms\n",
        "import numpy as np\n",
        "import shutil\n",
        "import matplotlib.pyplot as plt\n",
        "import seaborn as sns\n",
        "import os\n",
        "import json\n",
        "\n",
        "from sklearn.metrics import roc_curve, auc, confusion_matrix\n",
        "from PIL import Image"
      ]
    },
    {
      "cell_type": "code",
      "execution_count": 23,
      "metadata": {
        "cell_id": "8829776d0c234158bdff1607566571f3",
        "colab": {
          "base_uri": "https://localhost:8080/"
        },
        "deepnote_cell_type": "code",
        "deepnote_to_be_reexecuted": false,
        "execution_millis": 9,
        "execution_start": 1685014007693,
        "id": "wzrqvryVd0Pf",
        "outputId": "f3bb1588-09bb-48c2-f7db-f80c4bfaf8d3",
        "source_hash": "5274cba9"
      },
      "outputs": [],
      "source": [
        "#from google.colab import drive\n",
        "#drive.mount('/content/drive')"
      ]
    },
    {
      "attachments": {},
      "cell_type": "markdown",
      "metadata": {},
      "source": [
        "## Constants"
      ]
    },
    {
      "cell_type": "code",
      "execution_count": 24,
      "metadata": {
        "cell_id": "e2b43ba5f0f84e4083e4a0eedf854b3e",
        "deepnote_cell_type": "code",
        "deepnote_to_be_reexecuted": false,
        "execution_millis": 2,
        "execution_start": 1685014008928,
        "id": "DjW1R0s2deuN",
        "source_hash": "23722508"
      },
      "outputs": [],
      "source": [
        "# Mappings for utility\n",
        "MAP_PERCENT_TO_AMOUNT = {\n",
        "    \"10\" : 280,\n",
        "    \"25\" : 700,\n",
        "    \"50\" : 1400,\n",
        "    \"100\": 2799\n",
        "}\n",
        "\n",
        "DAMAGE_LEVEL_TO_SCORE = {\n",
        "    \"destroyed\" : 4,\n",
        "    \"major-damage\" : 3,\n",
        "    \"minor-damage\" : 2,\n",
        "    \"no-damage\" : 1,\n",
        "}"
      ]
    },
    {
      "attachments": {},
      "cell_type": "markdown",
      "metadata": {},
      "source": [
        "## Configs"
      ]
    },
    {
      "cell_type": "code",
      "execution_count": 59,
      "metadata": {},
      "outputs": [],
      "source": [
        "PERCENT = \"10\"\n",
        "TRAIN_SET_SIZE = MAP_PERCENT_TO_AMOUNT[PERCENT]\n",
        "BATCH_SIZE = 32"
      ]
    },
    {
      "cell_type": "code",
      "execution_count": 26,
      "metadata": {
        "cell_id": "7acec0c7b1fb436c8b6a05cf1f818aa0",
        "colab": {
          "base_uri": "https://localhost:8080/"
        },
        "deepnote_cell_type": "code",
        "deepnote_to_be_reexecuted": false,
        "execution_millis": 5,
        "execution_start": 1685014011476,
        "id": "3s-OW6V0eK13",
        "outputId": "f95988f4-2af8-4a0f-fe72-32d1084bc831",
        "source_hash": "99b2ca84"
      },
      "outputs": [
        {
          "data": {
            "text/plain": [
              "['test', 'train', 'xview2.txt', 'hold']"
            ]
          },
          "execution_count": 26,
          "metadata": {},
          "output_type": "execute_result"
        }
      ],
      "source": [
        "os.listdir(\"../dataset/\")"
      ]
    },
    {
      "attachments": {},
      "cell_type": "markdown",
      "metadata": {},
      "source": [
        "## File Paths"
      ]
    },
    {
      "cell_type": "code",
      "execution_count": 39,
      "metadata": {
        "cell_id": "632f5d87229f409c874ee69c8969988d",
        "deepnote_cell_type": "code",
        "deepnote_to_be_reexecuted": false,
        "execution_millis": 2,
        "execution_start": 1685014043874,
        "id": "PN0-MvlcdeuO",
        "source_hash": "5258c29a"
      },
      "outputs": [],
      "source": [
        "DATASET_DIR = \"../dataset/\"\n",
        "DATASET_METRICS_DIR = \"../dataset_metrics\"\n",
        "XVIEW2_TXT_FILE = \"../dataset/xview2.txt\"\n",
        "MODEL_OUTPUT_DIR = \"../models/\"\n",
        "MODEL_OUTPUT_FILE = \"model.pth\""
      ]
    },
    {
      "cell_type": "code",
      "execution_count": 28,
      "metadata": {
        "cell_id": "dc74046fea604b12b754d65ef62238cb",
        "colab": {
          "base_uri": "https://localhost:8080/"
        },
        "deepnote_cell_type": "code",
        "deepnote_to_be_reexecuted": false,
        "execution_millis": 687,
        "execution_start": 1685014012884,
        "id": "4nWWuh5uxSAo",
        "outputId": "386f9c46-3eac-42a4-94ba-e22b854b0437",
        "source_hash": "e4744247"
      },
      "outputs": [
        {
          "name": "stdout",
          "output_type": "stream",
          "text": [
            "ls: /datasets/xviewdataset/HTCV-Sem/dataset/: No such file or directory\n"
          ]
        }
      ],
      "source": [
        "!ls /datasets/xviewdataset/HTCV-Sem/dataset/"
      ]
    },
    {
      "attachments": {},
      "cell_type": "markdown",
      "metadata": {},
      "source": [
        "## Baseline Classifier"
      ]
    },
    {
      "cell_type": "code",
      "execution_count": 29,
      "metadata": {
        "cell_id": "248807e634d34b35a576fe10386c0912",
        "deepnote_cell_type": "code",
        "deepnote_to_be_reexecuted": false,
        "execution_millis": 6,
        "execution_start": 1685014013607,
        "id": "DlES_LUSdeuO",
        "source_hash": "bdbb3d8a"
      },
      "outputs": [],
      "source": [
        "device = torch.device(\"cuda\" if torch.cuda.is_available() else \"cpu\")\n",
        "class ResNetClassifier(nn.Module):\n",
        "    def __init__(self, num_classes):\n",
        "        super(ResNetClassifier, self).__init__()\n",
        "        self.resnet = models.resnet18(weights=None)\n",
        "        self.resnet.fc = nn.Linear(self.resnet.fc.in_features, num_classes)\n",
        "\n",
        "    def forward(self, x):\n",
        "        x = self.resnet(x)\n",
        "        return x\n",
        "    \n",
        "    def train_model(self, dataloader, num_epochs, lr, momentum):\n",
        "        self.train()\n",
        "        self.to(device)\n",
        "\n",
        "        optimizer = torch.optim.SGD(self.parameters(), lr, momentum)\n",
        "        scheduler = lr_scheduler.StepLR(optimizer, step_size=10, gamma=0.1)\n",
        "        criterion = nn.CrossEntropyLoss()\n",
        "        # Train the model\n",
        "\n",
        "        for epoch in range(num_epochs):\n",
        "            running_loss = 0.0\n",
        "            for images, labels in dataloader:\n",
        "                images, labels =  images.to(device),labels.to(device)\n",
        "                \n",
        "                optimizer.zero_grad()\n",
        "\n",
        "                # Forward pass\n",
        "                outputs = self(images)\n",
        "                loss = criterion(outputs, labels)\n",
        "\n",
        "                # Backward pass and optimizatio.n\n",
        "                loss.backward()\n",
        "                optimizer.step()\n",
        "\n",
        "                running_loss += loss.item()\n",
        "            scheduler.step()\n",
        "            print(f\"Epoch {epoch+1}/{num_epochs}, Loss: {running_loss}\")\n",
        "        torch.save(self.state_dict(), MODEL_OUTPUT_FILENAME + '.pth')\n",
        "    # Define the evaluation function\n",
        "\n",
        "    \n",
        "    def evaluate_model(self, test_dataloader):\n",
        "        self.eval()  # Set the model to evaluation mode\n",
        "        self.to(device)\n",
        "\n",
        "        correct = 0\n",
        "        total = 0\n",
        "\n",
        "        true_labels = []\n",
        "        predicted_labels = []\n",
        "\n",
        "        with torch.no_grad():\n",
        "            for images, labels in test_dataloader:\n",
        "                images = images.to(device)\n",
        "                labels = labels.to(device)\n",
        "\n",
        "                outputs = self(images)\n",
        "                _, predicted = torch.max(outputs.data, 1)\n",
        "\n",
        "                total += labels.size(0)\n",
        "                correct += (predicted == labels).sum().item()\n",
        "\n",
        "                true_labels.extend(labels.cpu().numpy())\n",
        "                predicted_labels.extend(predicted.cpu().numpy())\n",
        "\n",
        "        accuracy = correct / total\n",
        "        confusion_mat = confusion_matrix(true_labels, predicted_labels)\n",
        "\n",
        "        metrics = {}\n",
        "        roc_curves = {}\n",
        "        for class_idx in range(confusion_mat.shape[0]):\n",
        "            TP = confusion_mat[class_idx, class_idx]\n",
        "            FN = confusion_mat[class_idx, :].sum() - TP\n",
        "            FP = confusion_mat[:, class_idx].sum() - TP\n",
        "            TN = confusion_mat.sum() - TP - FN - FP\n",
        "\n",
        "            # Calculate metrics\n",
        "            sensitivity = TP / (TP + FN) if (TP + FN) != 0 else np.nan\n",
        "            precision = TP / (TP + FP) if (TP + FP) != 0 else np.nan\n",
        "            specificity = TN / (TN + FP) if (TN + FP) != 0 else np.nan\n",
        "            f1_score = 2 * (precision * sensitivity) / (precision + sensitivity) if (precision + sensitivity) != 0 else np.nan\n",
        "\n",
        "            # Calculate ROC curve\n",
        "            class_probs = torch.softmax(outputs, dim=1)\n",
        "            class_probs = class_probs[:, class_idx].cpu().numpy()\n",
        "\n",
        "            # Save metrics and ROC curve for the current class\n",
        "            metrics[class_idx] = {\n",
        "                'Sensitivity/Recall': sensitivity,\n",
        "                'Precision': precision,\n",
        "                'Specificity': specificity,\n",
        "                'F1-Score': f1_score\n",
        "            }\n",
        "\n",
        "        confusion_mat = confusion_matrix(true_labels, predicted_labels, normalize=\"true\")\n",
        "        return accuracy, confusion_mat, metrics, roc_curves\n"
      ]
    },
    {
      "attachments": {},
      "cell_type": "markdown",
      "metadata": {},
      "source": [
        "## Data Utilities"
      ]
    },
    {
      "cell_type": "code",
      "execution_count": 30,
      "metadata": {
        "cell_id": "52e63fff2fc24c48a5ee9615d3018933",
        "deepnote_cell_type": "code",
        "deepnote_to_be_reexecuted": false,
        "execution_millis": 5,
        "execution_start": 1685014017424,
        "id": "l0H_7LJudeuP",
        "source_hash": "1843f377"
      },
      "outputs": [],
      "source": [
        "def calc_mean_and_std_of_dataset(loader):\n",
        "    mean = 0.0\n",
        "    std = 0.0\n",
        "    total_samples = 0\n",
        "\n",
        "    for images, _ in loader:\n",
        "        batch_size = images.size(0)\n",
        "        images = images.view(batch_size, images.size(1), -1)\n",
        "        mean += images.mean(2).sum(0)\n",
        "        std += images.std(2).sum(0)\n",
        "        total_samples += batch_size\n",
        "\n",
        "    mean /= total_samples\n",
        "    std /= total_samples\n",
        "    \n",
        "    return mean, std"
      ]
    },
    {
      "attachments": {},
      "cell_type": "markdown",
      "metadata": {
        "cell_id": "e2287b8ce4524fc6a194ef5f774d0103",
        "deepnote_cell_type": "markdown",
        "id": "J1eCj5HAdeuP"
      },
      "source": [
        "## Normalize Dataset\n",
        "\n",
        "Calculate mean and standard deviation for RGB images.\n",
        "\n",
        "Set SAVE_MEAN_AND_STD True to recalculate the dataset's mean and standard deviation\n",
        "\n",
        "Set LOAD_MEAN_AND_STD True to load the already calculated mean and standard deviation"
      ]
    },
    {
      "cell_type": "code",
      "execution_count": 60,
      "metadata": {
        "cell_id": "7409b7bad3714c94b5aa73472a419d99",
        "colab": {
          "base_uri": "https://localhost:8080/",
          "height": 407
        },
        "deepnote_cell_type": "code",
        "deepnote_to_be_reexecuted": false,
        "execution_millis": 120,
        "execution_start": 1685014049020,
        "id": "fn5BpbUddeuQ",
        "outputId": "23401a3b-cf61-4e8d-948e-36cea33498bb",
        "source_hash": "6f7bea66"
      },
      "outputs": [],
      "source": [
        "TRAINING_SET_ENTRIES = open(XVIEW2_TXT_FILE,'r').read().splitlines()[:TRAIN_SET_SIZE]\n",
        "\n",
        "SAVE_MEAN_AND_STD = False\n",
        "if SAVE_MEAN_AND_STD:\n",
        "    pre_norm_transform = transforms.Compose([\n",
        "        transforms.Resize((224, 224)),\n",
        "        transforms.ToTensor()\n",
        "    ])\n",
        "    # Calculate the mean and standard deviation of your dataset\n",
        "    path_to_dataset = os.path.join(DATASET_DIR,\"train\")\n",
        "    dataset = torchvision.datasets.ImageFolder(path_to_dataset, transform=pre_norm_transform)\n",
        "    data_point_names = TRAINING_SET_ENTRIES\n",
        "\n",
        "    subset = [dataset[dataset.imgs.index((file_path, class_label))] for file_path, class_label in dataset.imgs if os.path.basename(file_path) in data_point_names]\n",
        "    dataloader = torch.utils.data.DataLoader(subset, batch_size=32, shuffle=False)\n",
        "\n",
        "    mean, std = calc_mean_and_std_of_dataset(loader=dataloader)\n",
        "\n",
        "    if not os.path.exists(DATASET_METRICS_DIR):\n",
        "            os.makedirs(DATASET_METRICS_DIR)    \n",
        "    with open(os.path.join(DATASET_METRICS_DIR, \"data_\"+ str(MAP_PERCENT_TO_AMOUNT[PERCENT])+\"_original\" +\".json\"), 'w') as json_file:\n",
        "        json.dump({'mean':mean.tolist(),'std':std.tolist()}, json_file)"
      ]
    },
    {
      "cell_type": "code",
      "execution_count": 61,
      "metadata": {},
      "outputs": [
        {
          "name": "stdout",
          "output_type": "stream",
          "text": [
            "[0.3047824501991272, 0.336587131023407, 0.2517954707145691]\n",
            "[0.11718715727329254, 0.10339520871639252, 0.09869235008955002]\n"
          ]
        }
      ],
      "source": [
        "LOAD_MEAN_AND_STD = True\n",
        "if LOAD_MEAN_AND_STD:\n",
        "    with open(os.path.join(DATASET_METRICS_DIR, \"data_\"+ str(MAP_PERCENT_TO_AMOUNT[PERCENT])+\"_original\" +\".json\"), 'r') as data_metrics_json:\n",
        "        data = json.load(data_metrics_json)\n",
        "\n",
        "    mean = data['mean']\n",
        "    std = data['std']\n",
        "print(mean)\n",
        "print(std)"
      ]
    },
    {
      "attachments": {},
      "cell_type": "markdown",
      "metadata": {
        "cell_id": "17bd5b27779347e7ac8880fbdbad0bed",
        "deepnote_cell_type": "markdown",
        "id": "8pOMod89deuQ"
      },
      "source": [
        "## Setup training model"
      ]
    },
    {
      "cell_type": "code",
      "execution_count": 95,
      "metadata": {
        "cell_id": "897e0dfb152a41f18894c41f3caa49ea",
        "deepnote_cell_type": "code",
        "id": "ETDKZS-ideuQ"
      },
      "outputs": [
        {
          "ename": "KeyboardInterrupt",
          "evalue": "",
          "output_type": "error",
          "traceback": [
            "\u001b[0;31m---------------------------------------------------------------------------\u001b[0m",
            "\u001b[0;31mKeyboardInterrupt\u001b[0m                         Traceback (most recent call last)",
            "\u001b[1;32m/Users/vinay/Uni/modules/HTCV/HTCV-Sem/notebooks/baseline.ipynb Cell 16\u001b[0m in \u001b[0;36m9\n\u001b[1;32m      <a href='vscode-notebook-cell:/Users/vinay/Uni/modules/HTCV/HTCV-Sem/notebooks/baseline.ipynb#X15sZmlsZQ%3D%3D?line=6'>7</a>\u001b[0m \u001b[39m# Example dataset loading using torchvision.datasets.ImageFolder\u001b[39;00m\n\u001b[1;32m      <a href='vscode-notebook-cell:/Users/vinay/Uni/modules/HTCV/HTCV-Sem/notebooks/baseline.ipynb#X15sZmlsZQ%3D%3D?line=7'>8</a>\u001b[0m dataset \u001b[39m=\u001b[39m torchvision\u001b[39m.\u001b[39mdatasets\u001b[39m.\u001b[39mImageFolder(path_to_dataset, transform\u001b[39m=\u001b[39mtransform)\n\u001b[0;32m----> <a href='vscode-notebook-cell:/Users/vinay/Uni/modules/HTCV/HTCV-Sem/notebooks/baseline.ipynb#X15sZmlsZQ%3D%3D?line=8'>9</a>\u001b[0m subset \u001b[39m=\u001b[39m [dataset[dataset\u001b[39m.\u001b[39mimgs\u001b[39m.\u001b[39mindex((file_path, class_label))] \u001b[39mfor\u001b[39;00m file_path, class_label \u001b[39min\u001b[39;00m dataset\u001b[39m.\u001b[39mimgs \u001b[39mif\u001b[39;00m os\u001b[39m.\u001b[39mpath\u001b[39m.\u001b[39mbasename(file_path) \u001b[39min\u001b[39;00m data_point_names]\n\u001b[1;32m     <a href='vscode-notebook-cell:/Users/vinay/Uni/modules/HTCV/HTCV-Sem/notebooks/baseline.ipynb#X15sZmlsZQ%3D%3D?line=9'>10</a>\u001b[0m dataloader \u001b[39m=\u001b[39m torch\u001b[39m.\u001b[39mutils\u001b[39m.\u001b[39mdata\u001b[39m.\u001b[39mDataLoader(subset, batch_size\u001b[39m=\u001b[39mBATCH_SIZE, shuffle\u001b[39m=\u001b[39m\u001b[39mTrue\u001b[39;00m)\n",
            "\u001b[1;32m/Users/vinay/Uni/modules/HTCV/HTCV-Sem/notebooks/baseline.ipynb Cell 16\u001b[0m in \u001b[0;36m9\n\u001b[1;32m      <a href='vscode-notebook-cell:/Users/vinay/Uni/modules/HTCV/HTCV-Sem/notebooks/baseline.ipynb#X15sZmlsZQ%3D%3D?line=6'>7</a>\u001b[0m \u001b[39m# Example dataset loading using torchvision.datasets.ImageFolder\u001b[39;00m\n\u001b[1;32m      <a href='vscode-notebook-cell:/Users/vinay/Uni/modules/HTCV/HTCV-Sem/notebooks/baseline.ipynb#X15sZmlsZQ%3D%3D?line=7'>8</a>\u001b[0m dataset \u001b[39m=\u001b[39m torchvision\u001b[39m.\u001b[39mdatasets\u001b[39m.\u001b[39mImageFolder(path_to_dataset, transform\u001b[39m=\u001b[39mtransform)\n\u001b[0;32m----> <a href='vscode-notebook-cell:/Users/vinay/Uni/modules/HTCV/HTCV-Sem/notebooks/baseline.ipynb#X15sZmlsZQ%3D%3D?line=8'>9</a>\u001b[0m subset \u001b[39m=\u001b[39m [dataset[dataset\u001b[39m.\u001b[39;49mimgs\u001b[39m.\u001b[39;49mindex((file_path, class_label))] \u001b[39mfor\u001b[39;00m file_path, class_label \u001b[39min\u001b[39;00m dataset\u001b[39m.\u001b[39mimgs \u001b[39mif\u001b[39;00m os\u001b[39m.\u001b[39mpath\u001b[39m.\u001b[39mbasename(file_path) \u001b[39min\u001b[39;00m data_point_names]\n\u001b[1;32m     <a href='vscode-notebook-cell:/Users/vinay/Uni/modules/HTCV/HTCV-Sem/notebooks/baseline.ipynb#X15sZmlsZQ%3D%3D?line=9'>10</a>\u001b[0m dataloader \u001b[39m=\u001b[39m torch\u001b[39m.\u001b[39mutils\u001b[39m.\u001b[39mdata\u001b[39m.\u001b[39mDataLoader(subset, batch_size\u001b[39m=\u001b[39mBATCH_SIZE, shuffle\u001b[39m=\u001b[39m\u001b[39mTrue\u001b[39;00m)\n",
            "File \u001b[0;32m/opt/homebrew/lib/python3.10/site-packages/torchvision/datasets/folder.py:229\u001b[0m, in \u001b[0;36mDatasetFolder.__getitem__\u001b[0;34m(self, index)\u001b[0m\n\u001b[1;32m    221\u001b[0m \u001b[39m\u001b[39m\u001b[39m\"\"\"\u001b[39;00m\n\u001b[1;32m    222\u001b[0m \u001b[39mArgs:\u001b[39;00m\n\u001b[1;32m    223\u001b[0m \u001b[39m    index (int): Index\u001b[39;00m\n\u001b[0;32m   (...)\u001b[0m\n\u001b[1;32m    226\u001b[0m \u001b[39m    tuple: (sample, target) where target is class_index of the target class.\u001b[39;00m\n\u001b[1;32m    227\u001b[0m \u001b[39m\"\"\"\u001b[39;00m\n\u001b[1;32m    228\u001b[0m path, target \u001b[39m=\u001b[39m \u001b[39mself\u001b[39m\u001b[39m.\u001b[39msamples[index]\n\u001b[0;32m--> 229\u001b[0m sample \u001b[39m=\u001b[39m \u001b[39mself\u001b[39;49m\u001b[39m.\u001b[39;49mloader(path)\n\u001b[1;32m    230\u001b[0m \u001b[39mif\u001b[39;00m \u001b[39mself\u001b[39m\u001b[39m.\u001b[39mtransform \u001b[39mis\u001b[39;00m \u001b[39mnot\u001b[39;00m \u001b[39mNone\u001b[39;00m:\n\u001b[1;32m    231\u001b[0m     sample \u001b[39m=\u001b[39m \u001b[39mself\u001b[39m\u001b[39m.\u001b[39mtransform(sample)\n",
            "File \u001b[0;32m/opt/homebrew/lib/python3.10/site-packages/torchvision/datasets/folder.py:268\u001b[0m, in \u001b[0;36mdefault_loader\u001b[0;34m(path)\u001b[0m\n\u001b[1;32m    266\u001b[0m     \u001b[39mreturn\u001b[39;00m accimage_loader(path)\n\u001b[1;32m    267\u001b[0m \u001b[39melse\u001b[39;00m:\n\u001b[0;32m--> 268\u001b[0m     \u001b[39mreturn\u001b[39;00m pil_loader(path)\n",
            "File \u001b[0;32m/opt/homebrew/lib/python3.10/site-packages/torchvision/datasets/folder.py:248\u001b[0m, in \u001b[0;36mpil_loader\u001b[0;34m(path)\u001b[0m\n\u001b[1;32m    246\u001b[0m \u001b[39mwith\u001b[39;00m \u001b[39mopen\u001b[39m(path, \u001b[39m\"\u001b[39m\u001b[39mrb\u001b[39m\u001b[39m\"\u001b[39m) \u001b[39mas\u001b[39;00m f:\n\u001b[1;32m    247\u001b[0m     img \u001b[39m=\u001b[39m Image\u001b[39m.\u001b[39mopen(f)\n\u001b[0;32m--> 248\u001b[0m     \u001b[39mreturn\u001b[39;00m img\u001b[39m.\u001b[39;49mconvert(\u001b[39m\"\u001b[39;49m\u001b[39mRGB\u001b[39;49m\u001b[39m\"\u001b[39;49m)\n",
            "File \u001b[0;32m/opt/homebrew/lib/python3.10/site-packages/PIL/Image.py:921\u001b[0m, in \u001b[0;36mImage.convert\u001b[0;34m(self, mode, matrix, dither, palette, colors)\u001b[0m\n\u001b[1;32m    873\u001b[0m \u001b[39mdef\u001b[39;00m \u001b[39mconvert\u001b[39m(\n\u001b[1;32m    874\u001b[0m     \u001b[39mself\u001b[39m, mode\u001b[39m=\u001b[39m\u001b[39mNone\u001b[39;00m, matrix\u001b[39m=\u001b[39m\u001b[39mNone\u001b[39;00m, dither\u001b[39m=\u001b[39m\u001b[39mNone\u001b[39;00m, palette\u001b[39m=\u001b[39mPalette\u001b[39m.\u001b[39mWEB, colors\u001b[39m=\u001b[39m\u001b[39m256\u001b[39m\n\u001b[1;32m    875\u001b[0m ):\n\u001b[1;32m    876\u001b[0m \u001b[39m    \u001b[39m\u001b[39m\"\"\"\u001b[39;00m\n\u001b[1;32m    877\u001b[0m \u001b[39m    Returns a converted copy of this image. For the \"P\" mode, this\u001b[39;00m\n\u001b[1;32m    878\u001b[0m \u001b[39m    method translates pixels through the palette.  If mode is\u001b[39;00m\n\u001b[0;32m   (...)\u001b[0m\n\u001b[1;32m    918\u001b[0m \u001b[39m    :returns: An :py:class:`~PIL.Image.Image` object.\u001b[39;00m\n\u001b[1;32m    919\u001b[0m \u001b[39m    \"\"\"\u001b[39;00m\n\u001b[0;32m--> 921\u001b[0m     \u001b[39mself\u001b[39;49m\u001b[39m.\u001b[39;49mload()\n\u001b[1;32m    923\u001b[0m     has_transparency \u001b[39m=\u001b[39m \u001b[39mself\u001b[39m\u001b[39m.\u001b[39minfo\u001b[39m.\u001b[39mget(\u001b[39m\"\u001b[39m\u001b[39mtransparency\u001b[39m\u001b[39m\"\u001b[39m) \u001b[39mis\u001b[39;00m \u001b[39mnot\u001b[39;00m \u001b[39mNone\u001b[39;00m\n\u001b[1;32m    924\u001b[0m     \u001b[39mif\u001b[39;00m \u001b[39mnot\u001b[39;00m mode \u001b[39mand\u001b[39;00m \u001b[39mself\u001b[39m\u001b[39m.\u001b[39mmode \u001b[39m==\u001b[39m \u001b[39m\"\u001b[39m\u001b[39mP\u001b[39m\u001b[39m\"\u001b[39m:\n\u001b[1;32m    925\u001b[0m         \u001b[39m# determine default mode\u001b[39;00m\n",
            "File \u001b[0;32m/opt/homebrew/lib/python3.10/site-packages/PIL/ImageFile.py:260\u001b[0m, in \u001b[0;36mImageFile.load\u001b[0;34m(self)\u001b[0m\n\u001b[1;32m    254\u001b[0m         \u001b[39mraise\u001b[39;00m \u001b[39mOSError\u001b[39;00m(\n\u001b[1;32m    255\u001b[0m             \u001b[39m\"\u001b[39m\u001b[39mimage file is truncated \u001b[39m\u001b[39m\"\u001b[39m\n\u001b[1;32m    256\u001b[0m             \u001b[39mf\u001b[39m\u001b[39m\"\u001b[39m\u001b[39m(\u001b[39m\u001b[39m{\u001b[39;00m\u001b[39mlen\u001b[39m(b)\u001b[39m}\u001b[39;00m\u001b[39m bytes not processed)\u001b[39m\u001b[39m\"\u001b[39m\n\u001b[1;32m    257\u001b[0m         )\n\u001b[1;32m    259\u001b[0m b \u001b[39m=\u001b[39m b \u001b[39m+\u001b[39m s\n\u001b[0;32m--> 260\u001b[0m n, err_code \u001b[39m=\u001b[39m decoder\u001b[39m.\u001b[39;49mdecode(b)\n\u001b[1;32m    261\u001b[0m \u001b[39mif\u001b[39;00m n \u001b[39m<\u001b[39m \u001b[39m0\u001b[39m:\n\u001b[1;32m    262\u001b[0m     \u001b[39mbreak\u001b[39;00m\n",
            "\u001b[0;31mKeyboardInterrupt\u001b[0m: "
          ]
        }
      ],
      "source": [
        "\n",
        "transform = transforms.Compose([\n",
        "    transforms.Resize((224, 224)),  \n",
        "    transforms.ToTensor(),\n",
        "    transforms.Normalize(mean, std)\n",
        "])\n",
        "\n",
        "dataset = torchvision.datasets.ImageFolder(\n",
        "    path_to_dataset, transform=transform\n",
        ")\n",
        "subset = [dataset[dataset.imgs.index((file_path, class_label))] \n",
        "          for file_path, class_label in dataset.imgs\n",
        "            if os.path.basename(file_path) in data_point_names]\n",
        "dataloader = torch.utils.data.DataLoader(\n",
        "    subset, batch_size=BATCH_SIZE, shuffle=True\n",
        ")"
      ]
    },
    {
      "attachments": {},
      "cell_type": "markdown",
      "metadata": {
        "cell_id": "9282d71c742041f4a6f3d9030786d723",
        "deepnote_cell_type": "markdown",
        "id": "rTzIxsmYdeuR"
      },
      "source": [
        "Train model"
      ]
    },
    {
      "cell_type": "code",
      "execution_count": null,
      "metadata": {
        "cell_id": "c4316131f052442fb2ceebc7234155d6",
        "deepnote_cell_type": "code",
        "id": "HmA8mz_UdeuR"
      },
      "outputs": [
        {
          "name": "stdout",
          "output_type": "stream",
          "text": [
            "Epoch 1/15, Loss: 65.88868606090546\n",
            "Epoch 2/15, Loss: 66.28035509586334\n",
            "Epoch 3/15, Loss: 56.04221922159195\n",
            "Epoch 4/15, Loss: 53.96895790100098\n",
            "Epoch 5/15, Loss: 49.41043972969055\n",
            "Epoch 6/15, Loss: 48.404438734054565\n",
            "Epoch 7/15, Loss: 48.160044491291046\n"
          ]
        },
        {
          "ename": "KeyboardInterrupt",
          "evalue": "",
          "output_type": "error",
          "traceback": [
            "\u001b[0;31m---------------------------------------------------------------------------\u001b[0m",
            "\u001b[0;31mKeyboardInterrupt\u001b[0m                         Traceback (most recent call last)",
            "\u001b[1;32m/Users/vinay/Uni/modules/HTCV/HTCV-Sem/notebooks/baseline.ipynb Cell 18\u001b[0m in \u001b[0;36m9\n\u001b[1;32m      <a href='vscode-notebook-cell:/Users/vinay/Uni/modules/HTCV/HTCV-Sem/notebooks/baseline.ipynb#X20sZmlsZQ%3D%3D?line=5'>6</a>\u001b[0m momentum\u001b[39m=\u001b[39m\u001b[39m0.9\u001b[39m\n\u001b[1;32m      <a href='vscode-notebook-cell:/Users/vinay/Uni/modules/HTCV/HTCV-Sem/notebooks/baseline.ipynb#X20sZmlsZQ%3D%3D?line=6'>7</a>\u001b[0m model \u001b[39m=\u001b[39m ResNetClassifier(num_classes)\n\u001b[0;32m----> <a href='vscode-notebook-cell:/Users/vinay/Uni/modules/HTCV/HTCV-Sem/notebooks/baseline.ipynb#X20sZmlsZQ%3D%3D?line=8'>9</a>\u001b[0m model\u001b[39m.\u001b[39;49mtrain_model(dataloader, num_epochs, lr, momentum)\n",
            "\u001b[1;32m/Users/vinay/Uni/modules/HTCV/HTCV-Sem/notebooks/baseline.ipynb Cell 18\u001b[0m in \u001b[0;36m3\n\u001b[1;32m     <a href='vscode-notebook-cell:/Users/vinay/Uni/modules/HTCV/HTCV-Sem/notebooks/baseline.ipynb#X20sZmlsZQ%3D%3D?line=32'>33</a>\u001b[0m loss \u001b[39m=\u001b[39m criterion(outputs, labels)\n\u001b[1;32m     <a href='vscode-notebook-cell:/Users/vinay/Uni/modules/HTCV/HTCV-Sem/notebooks/baseline.ipynb#X20sZmlsZQ%3D%3D?line=34'>35</a>\u001b[0m \u001b[39m# Backward pass and optimizatio.n\u001b[39;00m\n\u001b[0;32m---> <a href='vscode-notebook-cell:/Users/vinay/Uni/modules/HTCV/HTCV-Sem/notebooks/baseline.ipynb#X20sZmlsZQ%3D%3D?line=35'>36</a>\u001b[0m loss\u001b[39m.\u001b[39;49mbackward()\n\u001b[1;32m     <a href='vscode-notebook-cell:/Users/vinay/Uni/modules/HTCV/HTCV-Sem/notebooks/baseline.ipynb#X20sZmlsZQ%3D%3D?line=36'>37</a>\u001b[0m optimizer\u001b[39m.\u001b[39mstep()\n\u001b[1;32m     <a href='vscode-notebook-cell:/Users/vinay/Uni/modules/HTCV/HTCV-Sem/notebooks/baseline.ipynb#X20sZmlsZQ%3D%3D?line=38'>39</a>\u001b[0m running_loss \u001b[39m+\u001b[39m\u001b[39m=\u001b[39m loss\u001b[39m.\u001b[39mitem()\n",
            "File \u001b[0;32m/opt/homebrew/lib/python3.10/site-packages/torch/_tensor.py:487\u001b[0m, in \u001b[0;36mTensor.backward\u001b[0;34m(self, gradient, retain_graph, create_graph, inputs)\u001b[0m\n\u001b[1;32m    477\u001b[0m \u001b[39mif\u001b[39;00m has_torch_function_unary(\u001b[39mself\u001b[39m):\n\u001b[1;32m    478\u001b[0m     \u001b[39mreturn\u001b[39;00m handle_torch_function(\n\u001b[1;32m    479\u001b[0m         Tensor\u001b[39m.\u001b[39mbackward,\n\u001b[1;32m    480\u001b[0m         (\u001b[39mself\u001b[39m,),\n\u001b[0;32m   (...)\u001b[0m\n\u001b[1;32m    485\u001b[0m         inputs\u001b[39m=\u001b[39minputs,\n\u001b[1;32m    486\u001b[0m     )\n\u001b[0;32m--> 487\u001b[0m torch\u001b[39m.\u001b[39;49mautograd\u001b[39m.\u001b[39;49mbackward(\n\u001b[1;32m    488\u001b[0m     \u001b[39mself\u001b[39;49m, gradient, retain_graph, create_graph, inputs\u001b[39m=\u001b[39;49minputs\n\u001b[1;32m    489\u001b[0m )\n",
            "File \u001b[0;32m/opt/homebrew/lib/python3.10/site-packages/torch/autograd/__init__.py:197\u001b[0m, in \u001b[0;36mbackward\u001b[0;34m(tensors, grad_tensors, retain_graph, create_graph, grad_variables, inputs)\u001b[0m\n\u001b[1;32m    192\u001b[0m     retain_graph \u001b[39m=\u001b[39m create_graph\n\u001b[1;32m    194\u001b[0m \u001b[39m# The reason we repeat same the comment below is that\u001b[39;00m\n\u001b[1;32m    195\u001b[0m \u001b[39m# some Python versions print out the first line of a multi-line function\u001b[39;00m\n\u001b[1;32m    196\u001b[0m \u001b[39m# calls in the traceback and some print out the last line\u001b[39;00m\n\u001b[0;32m--> 197\u001b[0m Variable\u001b[39m.\u001b[39;49m_execution_engine\u001b[39m.\u001b[39;49mrun_backward(  \u001b[39m# Calls into the C++ engine to run the backward pass\u001b[39;49;00m\n\u001b[1;32m    198\u001b[0m     tensors, grad_tensors_, retain_graph, create_graph, inputs,\n\u001b[1;32m    199\u001b[0m     allow_unreachable\u001b[39m=\u001b[39;49m\u001b[39mTrue\u001b[39;49;00m, accumulate_grad\u001b[39m=\u001b[39;49m\u001b[39mTrue\u001b[39;49;00m)\n",
            "\u001b[0;31mKeyboardInterrupt\u001b[0m: "
          ]
        }
      ],
      "source": [
        "# Train the model\n",
        "num_classes = 5  # Number of output classes\n",
        "\n",
        "num_epochs=15\n",
        "lr=0.01\n",
        "momentum=0.9\n",
        "model = ResNetClassifier(num_classes)\n",
        "\n",
        "model.train_model(dataloader, num_epochs, lr, momentum)\n"
      ]
    },
    {
      "attachments": {},
      "cell_type": "markdown",
      "metadata": {
        "cell_id": "233aca035ae643a7b181b614e329ff65",
        "deepnote_cell_type": "markdown",
        "id": "Il1MBF6SdeuR"
      },
      "source": [
        "Setup evaluating test performance"
      ]
    },
    {
      "cell_type": "code",
      "execution_count": null,
      "metadata": {
        "cell_id": "a8eb364cd1034306bce244d97fe24cd3",
        "deepnote_cell_type": "code",
        "id": "c02HwsKUdeuR"
      },
      "outputs": [],
      "source": [
        "test_dataset = torchvision.datasets.ImageFolder(os.path.join(DATASET_FOLDER_PATH, \"test\"), transform=transform)\n",
        "test_dataloader = torch.utils.data.DataLoader(test_dataset, batch_size=BATCH_SIZE, shuffle=False,num_workers=2, pin_memory=True)"
      ]
    },
    {
      "attachments": {},
      "cell_type": "markdown",
      "metadata": {
        "cell_id": "c14c7a11032945bd90792af8505e1fd7",
        "deepnote_cell_type": "markdown",
        "id": "3Llj15MBdeuS"
      },
      "source": [
        "Evaluate model on test data"
      ]
    },
    {
      "cell_type": "code",
      "execution_count": null,
      "metadata": {
        "cell_id": "f59fb3d01700449e96d9a1a8f3d350de",
        "deepnote_cell_type": "code",
        "id": "nsDTzwi8deuS"
      },
      "outputs": [
        {
          "name": "stdout",
          "output_type": "stream",
          "text": [
            "Accuracy: 0.5348338692390139\n",
            "Confusion Matrix:\n",
            "[[0.63402062 0.21649485 0.03092784 0.04639175 0.07216495]\n",
            " [0.08060453 0.7884131  0.05793451 0.03274559 0.04030227]\n",
            " [0.15942029 0.61594203 0.07971014 0.07971014 0.06521739]\n",
            " [0.13445378 0.3697479  0.12605042 0.2605042  0.1092437 ]\n",
            " [0.22352941 0.30588235 0.09411765 0.12941176 0.24705882]]\n",
            "Metrics\n",
            "{\n",
            "  \"0\": {\n",
            "    \"Sensitivity/Recall\": 0.634020618556701,\n",
            "    \"Precision\": 0.5801886792452831,\n",
            "    \"Specificity\": 0.8795669824086604,\n",
            "    \"F1-Score\": 0.6059113300492611\n",
            "  },\n",
            "  \"1\": {\n",
            "    \"Sensitivity/Recall\": 0.7884130982367759,\n",
            "    \"Precision\": 0.6137254901960785,\n",
            "    \"Specificity\": 0.6324626865671642,\n",
            "    \"F1-Score\": 0.6901874310915105\n",
            "  },\n",
            "  \"2\": {\n",
            "    \"Sensitivity/Recall\": 0.07971014492753623,\n",
            "    \"Precision\": 0.1746031746031746,\n",
            "    \"Specificity\": 0.9345911949685535,\n",
            "    \"F1-Score\": 0.10945273631840796\n",
            "  },\n",
            "  \"3\": {\n",
            "    \"Sensitivity/Recall\": 0.2605042016806723,\n",
            "    \"Precision\": 0.41333333333333333,\n",
            "    \"Specificity\": 0.9459459459459459,\n",
            "    \"F1-Score\": 0.3195876288659794\n",
            "  },\n",
            "  \"4\": {\n",
            "    \"Sensitivity/Recall\": 0.24705882352941178,\n",
            "    \"Precision\": 0.2876712328767123,\n",
            "    \"Specificity\": 0.9386792452830188,\n",
            "    \"F1-Score\": 0.26582278481012656\n",
            "  }\n",
            "}\n"
          ]
        }
      ],
      "source": [
        "\n",
        "LOAD_MODEL = False\n",
        "LOAD_MODEL_PATH = 'resnet_classifier.pth'\n",
        "#Load the saved model state dictionary\n",
        "if(LOAD_MODEL):\n",
        "  model = ResNetClassifier(num_classes)\n",
        "  model.load_state_dict(torch.load('resnet_classifier.pth'))\n",
        "\n",
        "# Evaluate the model\n",
        "accuracy, confusion_mat, metrics, roc_curve = model.evaluate_model(test_dataloader=test_dataloader)\n",
        "\n",
        "# Print the accuracy\n",
        "print(f\"Accuracy: {accuracy}\")\n",
        "\n",
        "print(\"Confusion Matrix:\")\n",
        "print(confusion_mat)\n",
        "\n",
        "print(\"Metrics\")\n",
        "print(json.dumps(metrics, indent=2))\n"
      ]
    },
    {
      "cell_type": "code",
      "execution_count": null,
      "metadata": {
        "cell_id": "7df6ff2928964b7cb9b0ca8dc9870db1",
        "deepnote_cell_type": "code",
        "id": "TGljGznc5w8g"
      },
      "outputs": [],
      "source": [
        "mean_val = [mean_i.item() for mean_i in mean]\n",
        "std_val = [std_i.item() for std_i in std]\n",
        "data_info = {\n",
        "    'dataset_size' : MAP_PERCENT_TO_AMOUNT[PERCENT],\n",
        "    'mean_0' : mean_val[0],\n",
        "    'mean_1' : mean_val[1],\n",
        "    'mean_2' : mean_val[2],\n",
        "    'standard_dev_0' : std_val[0],\n",
        "    'standard_dev_1' : std_val[1],\n",
        "    'standard_dev_2' : std_val[2]\n",
        "}\n",
        "model_info = {\n",
        "    'dataset_size' : MAP_PERCENT_TO_AMOUNT[PERCENT],\n",
        "    'architecture' : \"resnet18\",\n",
        "    'learning_rate': lr,\n",
        "    'batch_size': BATCH_SIZE,\n",
        "    'num_epochs': num_epochs,\n",
        "    'momentum' : momentum,\n",
        "    'accuracy' : accuracy,\n",
        "    'confusion_mat' : confusion_mat.tolist()\n",
        "}\n",
        "with open(\"dataset_size_\" + str(MAP_PERCENT_TO_AMOUNT[PERCENT]) +'.json', 'w') as file:\n",
        "    json.dump(data_info, file)\n",
        "\n",
        "with open(MODEL_OUTPUT_FILENAME +'.json', 'w') as file:\n",
        "    json.dump(model_info, file)"
      ]
    },
    {
      "attachments": {},
      "cell_type": "markdown",
      "metadata": {
        "cell_id": "f0d3346ff81d4b66a2ba95bc7ffc1166",
        "deepnote_cell_type": "markdown",
        "id": "dBxQcEc-deuS"
      },
      "source": [
        "Visualize Results"
      ]
    },
    {
      "cell_type": "code",
      "execution_count": null,
      "metadata": {
        "cell_id": "16e7c8fa18914e4c94f8ca460a0601f2",
        "deepnote_cell_type": "code",
        "id": "wFmSOI-ideuS"
      },
      "outputs": [
        {
          "data": {
            "image/png": "[encoded data removed]",
            "text/plain": [
              "<Figure size 800x600 with 1 Axes>"
            ]
          },
          "metadata": {},
          "output_type": "display_data"
        }
      ],
      "source": [
        "# Get the class labels\n",
        "class_labels = test_dataset.classes\n",
        "\n",
        "# Create a figure and axis\n",
        "fig, ax = plt.subplots(figsize=(8, 6))\n",
        "\n",
        "# Plot the confusion matrix\n",
        "sns.heatmap(confusion_mat, annot=True, fmt=\".3f\", cmap=\"Blues\", cbar=False,\n",
        "            xticklabels=class_labels, yticklabels=class_labels, ax=ax)\n",
        "\n",
        "# Set labels and title\n",
        "ax.set_xlabel(\"Predicted Labels\")\n",
        "ax.set_ylabel(\"True Labels\")\n",
        "ax.set_title(\"Confusion Matrix\")\n",
        "\n",
        "# Rotate x-axis labels for better readability\n",
        "plt.xticks(rotation=45)\n",
        "\n",
        "# Display the plot\n",
        "plt.show()"
      ]
    },
    {
      "attachments": {},
      "cell_type": "markdown",
      "metadata": {
        "created_in_deepnote_cell": true,
        "deepnote_cell_type": "markdown",
        "id": "QWQszVILxSAu"
      },
      "source": [
        "<a style='text-decoration:none;line-height:16px;display:flex;color:#5B5B62;padding:10px;justify-content:end;' href='https://deepnote.com?utm_source=created-in-deepnote-cell&projectId=ac044641-96a0-4e06-ae59-4421e551585a' target=\"_blank\">\n",
        "<img alt='Created in deepnote.com' style='display:inline;max-height:16px;margin:0px;margin-right:7.5px;' src='data:image/svg+xml;base64,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' > </img>\n",
        "Created in <span style='font-weight:600;margin-left:4px;'>Deepnote</span></a>"
      ]
    }
  ],
  "metadata": {
    "accelerator": "GPU",
    "colab": {
      "gpuType": "T4",
      "provenance": []
    },
    "deepnote": {},
    "deepnote_execution_queue": [],
    "deepnote_notebook_id": "f7a42fbfe0fd4b20ae96bc3c8d717607",
    "gpuClass": "standard",
    "kernelspec": {
      "display_name": "Python 3",
      "language": "python",
      "name": "python3"
    },
    "language_info": {
      "codemirror_mode": {
        "name": "ipython",
        "version": 3
      },
      "file_extension": ".py",
      "mimetype": "text/x-python",
      "name": "python",
      "nbconvert_exporter": "python",
      "pygments_lexer": "ipython3",
      "version": "3.10.11"
    },
    "orig_nbformat": 4
  },
  "nbformat": 4,
  "nbformat_minor": 0
}
