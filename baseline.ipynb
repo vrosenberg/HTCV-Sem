{
  "cells": [
    {
      "cell_type": "markdown",
      "metadata": {
        "id": "Qydhqh93nCGB"
      },
      "source": [
        "This is a baseline for the HTCV Sem"
      ]
    },
    {
      "cell_type": "code",
      "source": [
        "import numpy"
      ],
      "metadata": {
        "id": "k8-TzgJtnfCK"
      },
      "execution_count": null,
      "outputs": []
    }
  ],
  "metadata": {
    "language_info": {
      "name": "python"
    },
    "orig_nbformat": 4,
    "colab": {
      "provenance": [],
      "gpuType": "T4"
    },
    "kernelspec": {
      "name": "python3",
      "display_name": "Python 3"
    },
    "gpuClass": "standard",
    "accelerator": "GPU"
  },
  "nbformat": 4,
  "nbformat_minor": 0
}